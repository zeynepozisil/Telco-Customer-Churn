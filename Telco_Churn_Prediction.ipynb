{
  "nbformat": 4,
  "nbformat_minor": 0,
  "metadata": {
    "colab": {
      "provenance": []
    },
    "kernelspec": {
      "name": "python3",
      "display_name": "Python 3"
    },
    "language_info": {
      "name": "python"
    }
  },
  "cells": [
    {
      "cell_type": "markdown",
      "source": [
        "# IMPORTS"
      ],
      "metadata": {
        "id": "OKKjX_1xOA37"
      }
    },
    {
      "cell_type": "code",
      "source": [
        "!pip install catboost"
      ],
      "metadata": {
        "id": "jMwq1sGgODaR"
      },
      "execution_count": null,
      "outputs": []
    },
    {
      "cell_type": "code",
      "execution_count": null,
      "metadata": {
        "id": "MfSR05_iGjjN"
      },
      "outputs": [],
      "source": [
        "import numpy as np\n",
        "import pandas as pd\n",
        "import matplotlib.pyplot as plt\n",
        "import seaborn as sns\n",
        "from sklearn.linear_model import LogisticRegression\n",
        "from sklearn.neighbors import KNeighborsClassifier\n",
        "from sklearn.preprocessing import LabelEncoder\n",
        "from sklearn.model_selection import GridSearchCV, cross_validate\n",
        "from sklearn.tree import DecisionTreeClassifier\n",
        "from sklearn.ensemble import RandomForestClassifier, VotingClassifier\n",
        "from catboost import CatBoostClassifier\n",
        "from lightgbm import LGBMClassifier\n",
        "from xgboost import XGBClassifier\n",
        "from sklearn.svm import SVC\n",
        "import warnings\n",
        "warnings.simplefilter(action=\"ignore\")"
      ]
    },
    {
      "cell_type": "code",
      "source": [
        "pd.set_option('display.max_columns', None)\n",
        "pd.set_option('display.width', 170)\n",
        "pd.set_option('display.max_rows', None)\n",
        "pd.set_option('display.float_format', lambda x: '%.3f' % x)"
      ],
      "metadata": {
        "id": "xEtmC5UsGtXf"
      },
      "execution_count": null,
      "outputs": []
    },
    {
      "cell_type": "code",
      "source": [
        "df = pd.read_csv(\"Telco-Customer-Churn.csv\")\n",
        "df.head()\n",
        "df.shape\n",
        "df.info()"
      ],
      "metadata": {
        "colab": {
          "base_uri": "https://localhost:8080/"
        },
        "id": "GC4RQrDXGtaI",
        "outputId": "6ae8be2c-fe50-44da-8dd3-ecdfb5d044fe"
      },
      "execution_count": null,
      "outputs": [
        {
          "output_type": "stream",
          "name": "stdout",
          "text": [
            "<class 'pandas.core.frame.DataFrame'>\n",
            "RangeIndex: 7043 entries, 0 to 7042\n",
            "Data columns (total 21 columns):\n",
            " #   Column            Non-Null Count  Dtype  \n",
            "---  ------            --------------  -----  \n",
            " 0   customerID        7043 non-null   object \n",
            " 1   gender            7043 non-null   object \n",
            " 2   SeniorCitizen     7043 non-null   int64  \n",
            " 3   Partner           7043 non-null   object \n",
            " 4   Dependents        7043 non-null   object \n",
            " 5   tenure            7043 non-null   int64  \n",
            " 6   PhoneService      7043 non-null   object \n",
            " 7   MultipleLines     7043 non-null   object \n",
            " 8   InternetService   7043 non-null   object \n",
            " 9   OnlineSecurity    7043 non-null   object \n",
            " 10  OnlineBackup      7043 non-null   object \n",
            " 11  DeviceProtection  7043 non-null   object \n",
            " 12  TechSupport       7043 non-null   object \n",
            " 13  StreamingTV       7043 non-null   object \n",
            " 14  StreamingMovies   7043 non-null   object \n",
            " 15  Contract          7043 non-null   object \n",
            " 16  PaperlessBilling  7043 non-null   object \n",
            " 17  PaymentMethod     7043 non-null   object \n",
            " 18  MonthlyCharges    7043 non-null   float64\n",
            " 19  TotalCharges      7043 non-null   object \n",
            " 20  Churn             7043 non-null   object \n",
            "dtypes: float64(1), int64(2), object(18)\n",
            "memory usage: 1.1+ MB\n"
          ]
        }
      ]
    },
    {
      "cell_type": "code",
      "source": [
        "df[\"TotalCharges\"] = pd.to_numeric(df[\"TotalCharges\"], errors='coerce')"
      ],
      "metadata": {
        "id": "gMbR0QGoGtcw"
      },
      "execution_count": null,
      "outputs": []
    },
    {
      "cell_type": "code",
      "source": [
        "df[\"Churn\"] = df[\"Churn\"].apply(lambda x : 1 if x == \"Yes\" else 0)"
      ],
      "metadata": {
        "id": "fD-Hn6-kGtfc"
      },
      "execution_count": null,
      "outputs": []
    },
    {
      "cell_type": "markdown",
      "source": [
        "# Exploring Data Analysis"
      ],
      "metadata": {
        "id": "43sT3ZT9OjC3"
      }
    },
    {
      "cell_type": "code",
      "source": [
        "def check_df(dataframe, head=5):\n",
        "    print(\"##################### Shape #####################\")\n",
        "    print(dataframe.shape)\n",
        "    print(\"##################### Types #####################\")\n",
        "    print(dataframe.dtypes)\n",
        "    print(\"##################### Head #####################\")\n",
        "    print(dataframe.head(head))\n",
        "    print(\"##################### Tail #####################\")\n",
        "    print(dataframe.tail(head))\n",
        "    print(\"##################### NA #####################\")\n",
        "    print(dataframe.isnull().sum())\n",
        "    print(\"##################### Quantiles #####################\")\n",
        "    print(dataframe.quantile([0, 0.05, 0.50, 0.95, 0.99, 1]).T)"
      ],
      "metadata": {
        "id": "USrwmLIROYTO"
      },
      "execution_count": null,
      "outputs": []
    },
    {
      "cell_type": "code",
      "source": [
        "check_df(df)"
      ],
      "metadata": {
        "colab": {
          "base_uri": "https://localhost:8080/"
        },
        "id": "edd-rR1lOYV1",
        "outputId": "22a74e29-0299-4f42-f1e5-1d3d396551c8"
      },
      "execution_count": null,
      "outputs": [
        {
          "output_type": "stream",
          "name": "stdout",
          "text": [
            "##################### Shape #####################\n",
            "(7043, 21)\n",
            "##################### Types #####################\n",
            "customerID           object\n",
            "gender               object\n",
            "SeniorCitizen         int64\n",
            "Partner              object\n",
            "Dependents           object\n",
            "tenure                int64\n",
            "PhoneService         object\n",
            "MultipleLines        object\n",
            "InternetService      object\n",
            "OnlineSecurity       object\n",
            "OnlineBackup         object\n",
            "DeviceProtection     object\n",
            "TechSupport          object\n",
            "StreamingTV          object\n",
            "StreamingMovies      object\n",
            "Contract             object\n",
            "PaperlessBilling     object\n",
            "PaymentMethod        object\n",
            "MonthlyCharges      float64\n",
            "TotalCharges        float64\n",
            "Churn                 int64\n",
            "dtype: object\n",
            "##################### Head #####################\n",
            "   customerID  gender  SeniorCitizen Partner Dependents  tenure PhoneService     MultipleLines InternetService OnlineSecurity OnlineBackup DeviceProtection TechSupport  \\\n",
            "0  7590-VHVEG  Female              0     Yes         No       1           No  No phone service             DSL             No          Yes               No          No   \n",
            "1  5575-GNVDE    Male              0      No         No      34          Yes                No             DSL            Yes           No              Yes          No   \n",
            "2  3668-QPYBK    Male              0      No         No       2          Yes                No             DSL            Yes          Yes               No          No   \n",
            "3  7795-CFOCW    Male              0      No         No      45           No  No phone service             DSL            Yes           No              Yes         Yes   \n",
            "4  9237-HQITU  Female              0      No         No       2          Yes                No     Fiber optic             No           No               No          No   \n",
            "\n",
            "  StreamingTV StreamingMovies        Contract PaperlessBilling              PaymentMethod  MonthlyCharges  TotalCharges  Churn  \n",
            "0          No              No  Month-to-month              Yes           Electronic check          29.850        29.850      0  \n",
            "1          No              No        One year               No               Mailed check          56.950      1889.500      0  \n",
            "2          No              No  Month-to-month              Yes               Mailed check          53.850       108.150      1  \n",
            "3          No              No        One year               No  Bank transfer (automatic)          42.300      1840.750      0  \n",
            "4          No              No  Month-to-month              Yes           Electronic check          70.700       151.650      1  \n",
            "##################### Tail #####################\n",
            "      customerID  gender  SeniorCitizen Partner Dependents  tenure PhoneService     MultipleLines InternetService OnlineSecurity OnlineBackup DeviceProtection  \\\n",
            "7038  6840-RESVB    Male              0     Yes        Yes      24          Yes               Yes             DSL            Yes           No              Yes   \n",
            "7039  2234-XADUH  Female              0     Yes        Yes      72          Yes               Yes     Fiber optic             No          Yes              Yes   \n",
            "7040  4801-JZAZL  Female              0     Yes        Yes      11           No  No phone service             DSL            Yes           No               No   \n",
            "7041  8361-LTMKD    Male              1     Yes         No       4          Yes               Yes     Fiber optic             No           No               No   \n",
            "7042  3186-AJIEK    Male              0      No         No      66          Yes                No     Fiber optic            Yes           No              Yes   \n",
            "\n",
            "     TechSupport StreamingTV StreamingMovies        Contract PaperlessBilling              PaymentMethod  MonthlyCharges  TotalCharges  Churn  \n",
            "7038         Yes         Yes             Yes        One year              Yes               Mailed check          84.800      1990.500      0  \n",
            "7039          No         Yes             Yes        One year              Yes    Credit card (automatic)         103.200      7362.900      0  \n",
            "7040          No          No              No  Month-to-month              Yes           Electronic check          29.600       346.450      0  \n",
            "7041          No          No              No  Month-to-month              Yes               Mailed check          74.400       306.600      1  \n",
            "7042         Yes         Yes             Yes        Two year              Yes  Bank transfer (automatic)         105.650      6844.500      0  \n",
            "##################### NA #####################\n",
            "customerID           0\n",
            "gender               0\n",
            "SeniorCitizen        0\n",
            "Partner              0\n",
            "Dependents           0\n",
            "tenure               0\n",
            "PhoneService         0\n",
            "MultipleLines        0\n",
            "InternetService      0\n",
            "OnlineSecurity       0\n",
            "OnlineBackup         0\n",
            "DeviceProtection     0\n",
            "TechSupport          0\n",
            "StreamingTV          0\n",
            "StreamingMovies      0\n",
            "Contract             0\n",
            "PaperlessBilling     0\n",
            "PaymentMethod        0\n",
            "MonthlyCharges       0\n",
            "TotalCharges        11\n",
            "Churn                0\n",
            "dtype: int64\n",
            "##################### Quantiles #####################\n",
            "                0.000  0.050    0.500    0.950    0.990    1.000\n",
            "SeniorCitizen   0.000  0.000    0.000    1.000    1.000    1.000\n",
            "tenure          0.000  1.000   29.000   72.000   72.000   72.000\n",
            "MonthlyCharges 18.250 19.650   70.350  107.400  114.729  118.750\n",
            "TotalCharges   18.800 49.605 1397.475 6923.590 8039.883 8684.800\n",
            "Churn           0.000  0.000    0.000    1.000    1.000    1.000\n"
          ]
        }
      ]
    },
    {
      "cell_type": "markdown",
      "source": [
        "## CAPTURE OF NUMERICAL AND CATEGORY VARIABLES"
      ],
      "metadata": {
        "id": "YD8b-FElOxpW"
      }
    },
    {
      "cell_type": "code",
      "source": [
        "def grab_col_names(dataframe, cat_th=10, car_th=20):\n",
        "    # cat_cols, cat_but_car\n",
        "    cat_cols = [col for col in dataframe.columns if dataframe[col].dtypes == \"O\"]\n",
        "    num_but_cat = [col for col in dataframe.columns if dataframe[col].nunique() < cat_th and dataframe[col].dtypes != \"O\"]\n",
        "    cat_but_car = [col for col in dataframe.columns if dataframe[col].nunique() > car_th and dataframe[col].dtypes == \"O\"]\n",
        "    cat_cols = cat_cols + num_but_cat\n",
        "    cat_cols = [col for col in cat_cols if col not in cat_but_car]\n",
        "\n",
        "    # num_cols\n",
        "    num_cols = [col for col in dataframe.columns if dataframe[col].dtypes != \"O\"]\n",
        "    num_cols = [col for col in num_cols if col not in num_but_cat]\n",
        "\n",
        "    print(f\"Observations: {dataframe.shape[0]}\")\n",
        "    print(f\"Variables: {dataframe.shape[1]}\")\n",
        "    print(f'cat_cols: {len(cat_cols)}')\n",
        "    print(f'num_cols: {len(num_cols)}')\n",
        "    print(f'cat_but_car: {len(cat_but_car)}')\n",
        "    print(f'num_but_cat: {len(num_but_cat)}')\n",
        "\n",
        "    return cat_cols, num_cols, cat_but_car"
      ],
      "metadata": {
        "id": "wEdk3GPUOYYz"
      },
      "execution_count": null,
      "outputs": []
    },
    {
      "cell_type": "code",
      "source": [
        "cat_cols, num_cols, cat_but_car = grab_col_names(df)"
      ],
      "metadata": {
        "colab": {
          "base_uri": "https://localhost:8080/"
        },
        "id": "XxckdINOOYba",
        "outputId": "4918d187-3327-42c4-f4d3-d2a7f1509878"
      },
      "execution_count": null,
      "outputs": [
        {
          "output_type": "stream",
          "name": "stdout",
          "text": [
            "Observations: 7043\n",
            "Variables: 21\n",
            "cat_cols: 17\n",
            "num_cols: 3\n",
            "cat_but_car: 1\n",
            "num_but_cat: 2\n"
          ]
        }
      ]
    },
    {
      "cell_type": "code",
      "source": [
        "cat_cols\n",
        "num_cols\n",
        "cat_but_car"
      ],
      "metadata": {
        "colab": {
          "base_uri": "https://localhost:8080/"
        },
        "id": "ijrl4zjMOYeL",
        "outputId": "9d9fe366-0c9f-489b-e5b7-248695b3ee1a"
      },
      "execution_count": null,
      "outputs": [
        {
          "output_type": "execute_result",
          "data": {
            "text/plain": [
              "['customerID']"
            ]
          },
          "metadata": {},
          "execution_count": 12
        }
      ]
    },
    {
      "cell_type": "markdown",
      "source": [
        "# ANALYSIS OF CATEGORY VARIABLES"
      ],
      "metadata": {
        "id": "_7nelHeRPC4G"
      }
    },
    {
      "cell_type": "code",
      "source": [
        "def cat_summary(dataframe, col_name, plot=False):\n",
        "    print(pd.DataFrame({col_name: dataframe[col_name].value_counts(),\n",
        "                        \"Ratio\": 100 * dataframe[col_name].value_counts() / len(dataframe)}))\n",
        "    print(\"##########################################\")\n",
        "    if plot:\n",
        "        sns.countplot(x=dataframe[col_name], data=dataframe)\n",
        "        plt.show()\n",
        "\n",
        "for col in cat_cols:\n",
        "    cat_summary(df, col)"
      ],
      "metadata": {
        "colab": {
          "base_uri": "https://localhost:8080/"
        },
        "id": "QFxzJIErGth8",
        "outputId": "c0dfe065-cf1b-47c6-b8bc-424b618e5199"
      },
      "execution_count": null,
      "outputs": [
        {
          "output_type": "stream",
          "name": "stdout",
          "text": [
            "        gender  Ratio\n",
            "Male      3555 50.476\n",
            "Female    3488 49.524\n",
            "##########################################\n",
            "     Partner  Ratio\n",
            "No      3641 51.697\n",
            "Yes     3402 48.303\n",
            "##########################################\n",
            "     Dependents  Ratio\n",
            "No         4933 70.041\n",
            "Yes        2110 29.959\n",
            "##########################################\n",
            "     PhoneService  Ratio\n",
            "Yes          6361 90.317\n",
            "No            682  9.683\n",
            "##########################################\n",
            "                  MultipleLines  Ratio\n",
            "No                         3390 48.133\n",
            "Yes                        2971 42.184\n",
            "No phone service            682  9.683\n",
            "##########################################\n",
            "             InternetService  Ratio\n",
            "Fiber optic             3096 43.959\n",
            "DSL                     2421 34.375\n",
            "No                      1526 21.667\n",
            "##########################################\n",
            "                     OnlineSecurity  Ratio\n",
            "No                             3498 49.666\n",
            "Yes                            2019 28.667\n",
            "No internet service            1526 21.667\n",
            "##########################################\n",
            "                     OnlineBackup  Ratio\n",
            "No                           3088 43.845\n",
            "Yes                          2429 34.488\n",
            "No internet service          1526 21.667\n",
            "##########################################\n",
            "                     DeviceProtection  Ratio\n",
            "No                               3095 43.944\n",
            "Yes                              2422 34.389\n",
            "No internet service              1526 21.667\n",
            "##########################################\n",
            "                     TechSupport  Ratio\n",
            "No                          3473 49.311\n",
            "Yes                         2044 29.022\n",
            "No internet service         1526 21.667\n",
            "##########################################\n",
            "                     StreamingTV  Ratio\n",
            "No                          2810 39.898\n",
            "Yes                         2707 38.435\n",
            "No internet service         1526 21.667\n",
            "##########################################\n",
            "                     StreamingMovies  Ratio\n",
            "No                              2785 39.543\n",
            "Yes                             2732 38.790\n",
            "No internet service             1526 21.667\n",
            "##########################################\n",
            "                Contract  Ratio\n",
            "Month-to-month      3875 55.019\n",
            "Two year            1695 24.066\n",
            "One year            1473 20.914\n",
            "##########################################\n",
            "     PaperlessBilling  Ratio\n",
            "Yes              4171 59.222\n",
            "No               2872 40.778\n",
            "##########################################\n",
            "                           PaymentMethod  Ratio\n",
            "Electronic check                    2365 33.579\n",
            "Mailed check                        1612 22.888\n",
            "Bank transfer (automatic)           1544 21.922\n",
            "Credit card (automatic)             1522 21.610\n",
            "##########################################\n",
            "   SeniorCitizen  Ratio\n",
            "0           5901 83.785\n",
            "1           1142 16.215\n",
            "##########################################\n",
            "   Churn  Ratio\n",
            "0   5174 73.463\n",
            "1   1869 26.537\n",
            "##########################################\n"
          ]
        }
      ]
    },
    {
      "cell_type": "markdown",
      "source": [
        "# ANALYSIS OF NUMERICAL VARIABLES"
      ],
      "metadata": {
        "id": "HbARZxgzPLGh"
      }
    },
    {
      "cell_type": "code",
      "source": [
        "def num_summary(dataframe, numerical_col, plot=False):\n",
        "    quantiles = [0.05, 0.10, 0.20, 0.30, 0.40, 0.50, 0.60, 0.70, 0.80, 0.90, 0.95, 0.99]\n",
        "    print(dataframe[numerical_col].describe(quantiles).T)\n",
        "\n",
        "    if plot:\n",
        "        dataframe[numerical_col].hist(bins=20)\n",
        "        plt.xlabel(numerical_col)\n",
        "        plt.title(numerical_col)\n",
        "        plt.show()\n",
        "\n",
        "for col in num_cols:\n",
        "    num_summary(df, col, plot=True)"
      ],
      "metadata": {
        "colab": {
          "base_uri": "https://localhost:8080/",
          "height": 1000
        },
        "id": "xhZ4gdJWGtkG",
        "outputId": "50508db8-8ea0-46e8-f015-46a8e8c1e792"
      },
      "execution_count": null,
      "outputs": [
        {
          "output_type": "stream",
          "name": "stdout",
          "text": [
            "count   7043.000\n",
            "mean      32.371\n",
            "std       24.559\n",
            "min        0.000\n",
            "5%         1.000\n",
            "10%        2.000\n",
            "20%        6.000\n",
            "30%       12.000\n",
            "40%       20.000\n",
            "50%       29.000\n",
            "60%       40.000\n",
            "70%       50.000\n",
            "80%       60.000\n",
            "90%       69.000\n",
            "95%       72.000\n",
            "99%       72.000\n",
            "max       72.000\n",
            "Name: tenure, dtype: float64\n"
          ]
        },
        {
          "output_type": "display_data",
          "data": {
            "text/plain": [
              "<Figure size 432x288 with 1 Axes>"
            ],
            "image/png": "[encoded data removed]"
          },
          "metadata": {
            "needs_background": "light"
          }
        },
        {
          "output_type": "stream",
          "name": "stdout",
          "text": [
            "count   7043.000\n",
            "mean      64.762\n",
            "std       30.090\n",
            "min       18.250\n",
            "5%        19.650\n",
            "10%       20.050\n",
            "20%       25.050\n",
            "30%       45.850\n",
            "40%       58.830\n",
            "50%       70.350\n",
            "60%       79.100\n",
            "70%       85.500\n",
            "80%       94.250\n",
            "90%      102.600\n",
            "95%      107.400\n",
            "99%      114.729\n",
            "max      118.750\n",
            "Name: MonthlyCharges, dtype: float64\n"
          ]
        },
        {
          "output_type": "display_data",
          "data": {
            "text/plain": [
              "<Figure size 432x288 with 1 Axes>"
            ],
            "image/png": "[encoded data removed]"
          },
          "metadata": {
            "needs_background": "light"
          }
        },
        {
          "output_type": "stream",
          "name": "stdout",
          "text": [
            "count   7032.000\n",
            "mean    2283.300\n",
            "std     2266.771\n",
            "min       18.800\n",
            "5%        49.605\n",
            "10%       84.600\n",
            "20%      267.070\n",
            "30%      551.995\n",
            "40%      944.170\n",
            "50%     1397.475\n",
            "60%     2048.950\n",
            "70%     3141.130\n",
            "80%     4475.410\n",
            "90%     5976.640\n",
            "95%     6923.590\n",
            "99%     8039.883\n",
            "max     8684.800\n",
            "Name: TotalCharges, dtype: float64\n"
          ]
        },
        {
          "output_type": "display_data",
          "data": {
            "text/plain": [
              "<Figure size 432x288 with 1 Axes>"
            ],
            "image/png": "[encoded data removed]"
          },
          "metadata": {
            "needs_background": "light"
          }
        }
      ]
    },
    {
      "cell_type": "code",
      "source": [
        "df[df[\"Contract\"] == \"Month-to-month\"][\"tenure\"].hist(bins=20)\n",
        "plt.xlabel(\"tenure\")\n",
        "plt.title(\"Month-to-month\")\n",
        "plt.show()"
      ],
      "metadata": {
        "colab": {
          "base_uri": "https://localhost:8080/",
          "height": 295
        },
        "id": "7fXiSX3qGtl4",
        "outputId": "da7ffdd3-0d2a-46d6-abc5-bcfed2a0e40c"
      },
      "execution_count": null,
      "outputs": [
        {
          "output_type": "display_data",
          "data": {
            "text/plain": [
              "<Figure size 432x288 with 1 Axes>"
            ],
            "image/png": "[encoded data removed]"
          },
          "metadata": {
            "needs_background": "light"
          }
        }
      ]
    },
    {
      "cell_type": "code",
      "source": [
        "df[df[\"Contract\"] == \"Two year\"][\"tenure\"].hist(bins=20)\n",
        "plt.xlabel(\"tenure\")\n",
        "plt.title(\"Two year\")\n",
        "plt.show()"
      ],
      "metadata": {
        "colab": {
          "base_uri": "https://localhost:8080/",
          "height": 295
        },
        "id": "w-EuLlqoPVos",
        "outputId": "10ccb7ad-8efb-4a9f-8707-dbce72e6cdc2"
      },
      "execution_count": null,
      "outputs": [
        {
          "output_type": "display_data",
          "data": {
            "text/plain": [
              "<Figure size 432x288 with 1 Axes>"
            ],
            "image/png": "[encoded data removed]"
          },
          "metadata": {
            "needs_background": "light"
          }
        }
      ]
    },
    {
      "cell_type": "code",
      "source": [
        "df[df[\"Contract\"] == \"Month-to-month\"][\"MonthlyCharges\"].hist(bins=20)\n",
        "plt.xlabel(\"MonthlyCharges\")\n",
        "plt.title(\"Month-to-month\")\n",
        "plt.show()"
      ],
      "metadata": {
        "colab": {
          "base_uri": "https://localhost:8080/",
          "height": 295
        },
        "id": "Ej6tU5vgPVrb",
        "outputId": "9f04427b-0741-4d29-90bf-90f9b185362e"
      },
      "execution_count": null,
      "outputs": [
        {
          "output_type": "display_data",
          "data": {
            "text/plain": [
              "<Figure size 432x288 with 1 Axes>"
            ],
            "image/png": "[encoded data removed]"
          },
          "metadata": {
            "needs_background": "light"
          }
        }
      ]
    },
    {
      "cell_type": "code",
      "source": [
        "df[df[\"Contract\"] == \"Two year\"][\"MonthlyCharges\"].hist(bins=20)\n",
        "plt.xlabel(\"MonthlyCharges\")\n",
        "plt.title(\"Two year\")\n",
        "plt.show()"
      ],
      "metadata": {
        "colab": {
          "base_uri": "https://localhost:8080/",
          "height": 295
        },
        "id": "PupsEypvPVun",
        "outputId": "c3ed7e4e-5c5b-4476-bced-5666fbcae435"
      },
      "execution_count": null,
      "outputs": [
        {
          "output_type": "display_data",
          "data": {
            "text/plain": [
              "<Figure size 432x288 with 1 Axes>"
            ],
            "image/png": "[encoded data removed]"
          },
          "metadata": {
            "needs_background": "light"
          }
        }
      ]
    },
    {
      "cell_type": "code",
      "source": [
        "def target_summary_with_num(dataframe, target, numerical_col):\n",
        "    print(dataframe.groupby(target).agg({numerical_col: \"mean\"}), end=\"\\n\\n\\n\")\n",
        "\n",
        "for col in num_cols:\n",
        "    target_summary_with_num(df, \"Churn\", col)"
      ],
      "metadata": {
        "colab": {
          "base_uri": "https://localhost:8080/"
        },
        "id": "_zoOAdqqPVw3",
        "outputId": "fc7fd972-db0e-4e93-9acb-7d9f91f43aed"
      },
      "execution_count": null,
      "outputs": [
        {
          "output_type": "stream",
          "name": "stdout",
          "text": [
            "       tenure\n",
            "Churn        \n",
            "0      37.570\n",
            "1      17.979\n",
            "\n",
            "\n",
            "       MonthlyCharges\n",
            "Churn                \n",
            "0              61.265\n",
            "1              74.441\n",
            "\n",
            "\n",
            "       TotalCharges\n",
            "Churn              \n",
            "0          2555.344\n",
            "1          1531.796\n",
            "\n",
            "\n"
          ]
        }
      ]
    },
    {
      "cell_type": "code",
      "source": [
        "def target_summary_with_cat(dataframe, target, categorical_col):\n",
        "    print(categorical_col)\n",
        "    print(pd.DataFrame({\"TARGET_MEAN\": dataframe.groupby(categorical_col)[target].mean(),\n",
        "                        \"Count\": dataframe[categorical_col].value_counts(),\n",
        "                        \"Ratio\": 100 * dataframe[categorical_col].value_counts() / len(dataframe)}), end=\"\\n\\n\\n\")\n",
        "\n",
        "for col in cat_cols:\n",
        "    target_summary_with_cat(df, \"Churn\", col)"
      ],
      "metadata": {
        "colab": {
          "base_uri": "https://localhost:8080/"
        },
        "id": "oAVJK5M8PVzi",
        "outputId": "7e862376-0be8-4e3a-cdd5-ed36fc89bc68"
      },
      "execution_count": null,
      "outputs": [
        {
          "output_type": "stream",
          "name": "stdout",
          "text": [
            "gender\n",
            "        TARGET_MEAN  Count  Ratio\n",
            "Female        0.269   3488 49.524\n",
            "Male          0.262   3555 50.476\n",
            "\n",
            "\n",
            "Partner\n",
            "     TARGET_MEAN  Count  Ratio\n",
            "No         0.330   3641 51.697\n",
            "Yes        0.197   3402 48.303\n",
            "\n",
            "\n",
            "Dependents\n",
            "     TARGET_MEAN  Count  Ratio\n",
            "No         0.313   4933 70.041\n",
            "Yes        0.155   2110 29.959\n",
            "\n",
            "\n",
            "PhoneService\n",
            "     TARGET_MEAN  Count  Ratio\n",
            "No         0.249    682  9.683\n",
            "Yes        0.267   6361 90.317\n",
            "\n",
            "\n",
            "MultipleLines\n",
            "                  TARGET_MEAN  Count  Ratio\n",
            "No                      0.250   3390 48.133\n",
            "No phone service        0.249    682  9.683\n",
            "Yes                     0.286   2971 42.184\n",
            "\n",
            "\n",
            "InternetService\n",
            "             TARGET_MEAN  Count  Ratio\n",
            "DSL                0.190   2421 34.375\n",
            "Fiber optic        0.419   3096 43.959\n",
            "No                 0.074   1526 21.667\n",
            "\n",
            "\n",
            "OnlineSecurity\n",
            "                     TARGET_MEAN  Count  Ratio\n",
            "No                         0.418   3498 49.666\n",
            "No internet service        0.074   1526 21.667\n",
            "Yes                        0.146   2019 28.667\n",
            "\n",
            "\n",
            "OnlineBackup\n",
            "                     TARGET_MEAN  Count  Ratio\n",
            "No                         0.399   3088 43.845\n",
            "No internet service        0.074   1526 21.667\n",
            "Yes                        0.215   2429 34.488\n",
            "\n",
            "\n",
            "DeviceProtection\n",
            "                     TARGET_MEAN  Count  Ratio\n",
            "No                         0.391   3095 43.944\n",
            "No internet service        0.074   1526 21.667\n",
            "Yes                        0.225   2422 34.389\n",
            "\n",
            "\n",
            "TechSupport\n",
            "                     TARGET_MEAN  Count  Ratio\n",
            "No                         0.416   3473 49.311\n",
            "No internet service        0.074   1526 21.667\n",
            "Yes                        0.152   2044 29.022\n",
            "\n",
            "\n",
            "StreamingTV\n",
            "                     TARGET_MEAN  Count  Ratio\n",
            "No                         0.335   2810 39.898\n",
            "No internet service        0.074   1526 21.667\n",
            "Yes                        0.301   2707 38.435\n",
            "\n",
            "\n",
            "StreamingMovies\n",
            "                     TARGET_MEAN  Count  Ratio\n",
            "No                         0.337   2785 39.543\n",
            "No internet service        0.074   1526 21.667\n",
            "Yes                        0.299   2732 38.790\n",
            "\n",
            "\n",
            "Contract\n",
            "                TARGET_MEAN  Count  Ratio\n",
            "Month-to-month        0.427   3875 55.019\n",
            "One year              0.113   1473 20.914\n",
            "Two year              0.028   1695 24.066\n",
            "\n",
            "\n",
            "PaperlessBilling\n",
            "     TARGET_MEAN  Count  Ratio\n",
            "No         0.163   2872 40.778\n",
            "Yes        0.336   4171 59.222\n",
            "\n",
            "\n",
            "PaymentMethod\n",
            "                           TARGET_MEAN  Count  Ratio\n",
            "Bank transfer (automatic)        0.167   1544 21.922\n",
            "Credit card (automatic)          0.152   1522 21.610\n",
            "Electronic check                 0.453   2365 33.579\n",
            "Mailed check                     0.191   1612 22.888\n",
            "\n",
            "\n",
            "SeniorCitizen\n",
            "   TARGET_MEAN  Count  Ratio\n",
            "0        0.236   5901 83.785\n",
            "1        0.417   1142 16.215\n",
            "\n",
            "\n",
            "Churn\n",
            "   TARGET_MEAN  Count  Ratio\n",
            "0        0.000   5174 73.463\n",
            "1        1.000   1869 26.537\n",
            "\n",
            "\n"
          ]
        }
      ]
    },
    {
      "cell_type": "markdown",
      "source": [
        "# CORRELATION"
      ],
      "metadata": {
        "id": "8o8vY_gzPqM2"
      }
    },
    {
      "cell_type": "code",
      "source": [
        "df[num_cols].corr()"
      ],
      "metadata": {
        "colab": {
          "base_uri": "https://localhost:8080/",
          "height": 143
        },
        "id": "2O9IzxrqPrMz",
        "outputId": "1d166b48-536a-49e3-e3b3-91e3deadc259"
      },
      "execution_count": null,
      "outputs": [
        {
          "output_type": "execute_result",
          "data": {
            "text/plain": [
              "                tenure  MonthlyCharges  TotalCharges\n",
              "tenure           1.000           0.248         0.826\n",
              "MonthlyCharges   0.248           1.000         0.651\n",
              "TotalCharges     0.826           0.651         1.000"
            ],
            "text/html": [
              "\n",
              "  <div id=\"df-f0ef968e-4c5d-4ecb-949e-11bc62ef9fd3\">\n",
              "    <div class=\"colab-df-container\">\n",
              "      <div>\n",
              "<style scoped>\n",
              "    .dataframe tbody tr th:only-of-type {\n",
              "        vertical-align: middle;\n",
              "    }\n",
              "\n",
              "    .dataframe tbody tr th {\n",
              "        vertical-align: top;\n",
              "    }\n",
              "\n",
              "    .dataframe thead th {\n",
              "        text-align: right;\n",
              "    }\n",
              "</style>\n",
              "<table border=\"1\" class=\"dataframe\">\n",
              "  <thead>\n",
              "    <tr style=\"text-align: right;\">\n",
              "      <th></th>\n",
              "      <th>tenure</th>\n",
              "      <th>MonthlyCharges</th>\n",
              "      <th>TotalCharges</th>\n",
              "    </tr>\n",
              "  </thead>\n",
              "  <tbody>\n",
              "    <tr>\n",
              "      <th>tenure</th>\n",
              "      <td>1.000</td>\n",
              "      <td>0.248</td>\n",
              "      <td>0.826</td>\n",
              "    </tr>\n",
              "    <tr>\n",
              "      <th>MonthlyCharges</th>\n",
              "      <td>0.248</td>\n",
              "      <td>1.000</td>\n",
              "      <td>0.651</td>\n",
              "    </tr>\n",
              "    <tr>\n",
              "      <th>TotalCharges</th>\n",
              "      <td>0.826</td>\n",
              "      <td>0.651</td>\n",
              "      <td>1.000</td>\n",
              "    </tr>\n",
              "  </tbody>\n",
              "</table>\n",
              "</div>\n",
              "      <button class=\"colab-df-convert\" onclick=\"convertToInteractive('df-f0ef968e-4c5d-4ecb-949e-11bc62ef9fd3')\"\n",
              "              title=\"Convert this dataframe to an interactive table.\"\n",
              "              style=\"display:none;\">\n",
              "        \n",
              "  <svg xmlns=\"http://www.w3.org/2000/svg\" height=\"24px\"viewBox=\"0 0 24 24\"\n",
              "       width=\"24px\">\n",
              "    <path d=\"M0 0h24v24H0V0z\" fill=\"none\"/>\n",
              "    <path d=\"M18.56 5.44l.94 2.06.94-2.06 2.06-.94-2.06-.94-.94-2.06-.94 2.06-2.06.94zm-11 1L8.5 8.5l.94-2.06 2.06-.94-2.06-.94L8.5 2.5l-.94 2.06-2.06.94zm10 10l.94 2.06.94-2.06 2.06-.94-2.06-.94-.94-2.06-.94 2.06-2.06.94z\"/><path d=\"M17.41 7.96l-1.37-1.37c-.4-.4-.92-.59-1.43-.59-.52 0-1.04.2-1.43.59L10.3 9.45l-7.72 7.72c-.78.78-.78 2.05 0 2.83L4 21.41c.39.39.9.59 1.41.59.51 0 1.02-.2 1.41-.59l7.78-7.78 2.81-2.81c.8-.78.8-2.07 0-2.86zM5.41 20L4 18.59l7.72-7.72 1.47 1.35L5.41 20z\"/>\n",
              "  </svg>\n",
              "      </button>\n",
              "      \n",
              "  <style>\n",
              "    .colab-df-container {\n",
              "      display:flex;\n",
              "      flex-wrap:wrap;\n",
              "      gap: 12px;\n",
              "    }\n",
              "\n",
              "    .colab-df-convert {\n",
              "      background-color: #E8F0FE;\n",
              "      border: none;\n",
              "      border-radius: 50%;\n",
              "      cursor: pointer;\n",
              "      display: none;\n",
              "      fill: #1967D2;\n",
              "      height: 32px;\n",
              "      padding: 0 0 0 0;\n",
              "      width: 32px;\n",
              "    }\n",
              "\n",
              "    .colab-df-convert:hover {\n",
              "      background-color: #E2EBFA;\n",
              "      box-shadow: 0px 1px 2px rgba(60, 64, 67, 0.3), 0px 1px 3px 1px rgba(60, 64, 67, 0.15);\n",
              "      fill: #174EA6;\n",
              "    }\n",
              "\n",
              "    [theme=dark] .colab-df-convert {\n",
              "      background-color: #3B4455;\n",
              "      fill: #D2E3FC;\n",
              "    }\n",
              "\n",
              "    [theme=dark] .colab-df-convert:hover {\n",
              "      background-color: #434B5C;\n",
              "      box-shadow: 0px 1px 3px 1px rgba(0, 0, 0, 0.15);\n",
              "      filter: drop-shadow(0px 1px 2px rgba(0, 0, 0, 0.3));\n",
              "      fill: #FFFFFF;\n",
              "    }\n",
              "  </style>\n",
              "\n",
              "      <script>\n",
              "        const buttonEl =\n",
              "          document.querySelector('#df-f0ef968e-4c5d-4ecb-949e-11bc62ef9fd3 button.colab-df-convert');\n",
              "        buttonEl.style.display =\n",
              "          google.colab.kernel.accessAllowed ? 'block' : 'none';\n",
              "\n",
              "        async function convertToInteractive(key) {\n",
              "          const element = document.querySelector('#df-f0ef968e-4c5d-4ecb-949e-11bc62ef9fd3');\n",
              "          const dataTable =\n",
              "            await google.colab.kernel.invokeFunction('convertToInteractive',\n",
              "                                                     [key], {});\n",
              "          if (!dataTable) return;\n",
              "\n",
              "          const docLinkHtml = 'Like what you see? Visit the ' +\n",
              "            '<a target=\"_blank\" href=https://colab.research.google.com/notebooks/data_table.ipynb>data table notebook</a>'\n",
              "            + ' to learn more about interactive tables.';\n",
              "          element.innerHTML = '';\n",
              "          dataTable['output_type'] = 'display_data';\n",
              "          await google.colab.output.renderOutput(dataTable, element);\n",
              "          const docLink = document.createElement('div');\n",
              "          docLink.innerHTML = docLinkHtml;\n",
              "          element.appendChild(docLink);\n",
              "        }\n",
              "      </script>\n",
              "    </div>\n",
              "  </div>\n",
              "  "
            ]
          },
          "metadata": {},
          "execution_count": 21
        }
      ]
    },
    {
      "cell_type": "code",
      "source": [
        "f, ax = plt.subplots(figsize=[18, 13])\n",
        "sns.heatmap(df[num_cols].corr(), annot=True, fmt=\".2f\", ax=ax, cmap=\"magma\")\n",
        "ax.set_title(\"Correlation Matrix\", fontsize=20)\n",
        "plt.show()"
      ],
      "metadata": {
        "colab": {
          "base_uri": "https://localhost:8080/",
          "height": 776
        },
        "id": "U7OlvV0ZPrP9",
        "outputId": "5f56e685-5ada-4354-b2dd-b03d9ad02f5f"
      },
      "execution_count": null,
      "outputs": [
        {
          "output_type": "display_data",
          "data": {
            "text/plain": [
              "<Figure size 1296x936 with 2 Axes>"
            ],
            "image/png": "[encoded data removed]"
          },
          "metadata": {
            "needs_background": "light"
          }
        }
      ]
    },
    {
      "cell_type": "code",
      "source": [
        "df.corrwith(df[\"Churn\"]).sort_values(ascending=False)"
      ],
      "metadata": {
        "colab": {
          "base_uri": "https://localhost:8080/"
        },
        "id": "ecP_rWQpPrS1",
        "outputId": "37f68027-7e10-40c4-9f30-656ecea0d9c4"
      },
      "execution_count": null,
      "outputs": [
        {
          "output_type": "execute_result",
          "data": {
            "text/plain": [
              "Churn             1.000\n",
              "MonthlyCharges    0.193\n",
              "SeniorCitizen     0.151\n",
              "TotalCharges     -0.199\n",
              "tenure           -0.352\n",
              "dtype: float64"
            ]
          },
          "metadata": {},
          "execution_count": 23
        }
      ]
    },
    {
      "cell_type": "markdown",
      "source": [
        "# FEATURE ENGINEERING"
      ],
      "metadata": {
        "id": "nVK11-tCP_m8"
      }
    },
    {
      "cell_type": "markdown",
      "source": [
        "## MISSING VALUE ANALYSIS"
      ],
      "metadata": {
        "id": "WOs-tOJMQHiO"
      }
    },
    {
      "cell_type": "code",
      "source": [
        "df.isnull().sum()"
      ],
      "metadata": {
        "colab": {
          "base_uri": "https://localhost:8080/"
        },
        "id": "V_9RU_lQPrV3",
        "outputId": "53e5412a-3419-4fce-a742-0dc317bedb42"
      },
      "execution_count": null,
      "outputs": [
        {
          "output_type": "execute_result",
          "data": {
            "text/plain": [
              "customerID           0\n",
              "gender               0\n",
              "SeniorCitizen        0\n",
              "Partner              0\n",
              "Dependents           0\n",
              "tenure               0\n",
              "PhoneService         0\n",
              "MultipleLines        0\n",
              "InternetService      0\n",
              "OnlineSecurity       0\n",
              "OnlineBackup         0\n",
              "DeviceProtection     0\n",
              "TechSupport          0\n",
              "StreamingTV          0\n",
              "StreamingMovies      0\n",
              "Contract             0\n",
              "PaperlessBilling     0\n",
              "PaymentMethod        0\n",
              "MonthlyCharges       0\n",
              "TotalCharges        11\n",
              "Churn                0\n",
              "dtype: int64"
            ]
          },
          "metadata": {},
          "execution_count": 24
        }
      ]
    },
    {
      "cell_type": "code",
      "source": [
        "def missing_values_table(dataframe, na_name=False):\n",
        "    na_columns = [col for col in dataframe.columns if dataframe[col].isnull().sum() > 0]\n",
        "    n_miss = dataframe[na_columns].isnull().sum().sort_values(ascending=False)\n",
        "    ratio = (dataframe[na_columns].isnull().sum() / dataframe.shape[0] * 100).sort_values(ascending=False)\n",
        "    missing_df = pd.concat([n_miss, np.round(ratio, 2)], axis=1, keys=['n_miss', 'ratio'])\n",
        "    print(missing_df, end=\"\\n\")\n",
        "    if na_name:\n",
        "        return na_columns"
      ],
      "metadata": {
        "id": "RtwY4PCePrYg"
      },
      "execution_count": null,
      "outputs": []
    },
    {
      "cell_type": "code",
      "source": [
        "na_columns = missing_values_table(df, na_name=True)"
      ],
      "metadata": {
        "colab": {
          "base_uri": "https://localhost:8080/"
        },
        "id": "zxYgWSZjPrbN",
        "outputId": "b3ecfbf8-ac3d-4e94-9ad5-54ede00dadc8"
      },
      "execution_count": null,
      "outputs": [
        {
          "output_type": "stream",
          "name": "stdout",
          "text": [
            "              n_miss  ratio\n",
            "TotalCharges      11  0.160\n"
          ]
        }
      ]
    },
    {
      "cell_type": "code",
      "source": [
        "df[\"TotalCharges\"].fillna(df[\"TotalCharges\"].median(), inplace=True) "
      ],
      "metadata": {
        "id": "7X6t6lfLPrds"
      },
      "execution_count": null,
      "outputs": []
    },
    {
      "cell_type": "code",
      "source": [
        "df.isnull().sum()"
      ],
      "metadata": {
        "colab": {
          "base_uri": "https://localhost:8080/"
        },
        "id": "6MYEsmHfPV2f",
        "outputId": "0d8f0554-eb96-48ef-983f-60f85e6a5f46"
      },
      "execution_count": null,
      "outputs": [
        {
          "output_type": "execute_result",
          "data": {
            "text/plain": [
              "customerID          0\n",
              "gender              0\n",
              "SeniorCitizen       0\n",
              "Partner             0\n",
              "Dependents          0\n",
              "tenure              0\n",
              "PhoneService        0\n",
              "MultipleLines       0\n",
              "InternetService     0\n",
              "OnlineSecurity      0\n",
              "OnlineBackup        0\n",
              "DeviceProtection    0\n",
              "TechSupport         0\n",
              "StreamingTV         0\n",
              "StreamingMovies     0\n",
              "Contract            0\n",
              "PaperlessBilling    0\n",
              "PaymentMethod       0\n",
              "MonthlyCharges      0\n",
              "TotalCharges        0\n",
              "Churn               0\n",
              "dtype: int64"
            ]
          },
          "metadata": {},
          "execution_count": 28
        }
      ]
    },
    {
      "cell_type": "markdown",
      "source": [
        "# BASE MODEL"
      ],
      "metadata": {
        "id": "hTZyJT2RQUvk"
      }
    },
    {
      "cell_type": "code",
      "source": [
        "dff = df.copy()\n",
        "cat_cols = [col for col in cat_cols if col not in [\"Churn\"]]\n",
        "cat_cols"
      ],
      "metadata": {
        "colab": {
          "base_uri": "https://localhost:8080/"
        },
        "id": "6Rf4a6-iQalj",
        "outputId": "895ff9fe-5978-441d-9086-048ed1f58620"
      },
      "execution_count": null,
      "outputs": [
        {
          "output_type": "execute_result",
          "data": {
            "text/plain": [
              "['gender',\n",
              " 'Partner',\n",
              " 'Dependents',\n",
              " 'PhoneService',\n",
              " 'MultipleLines',\n",
              " 'InternetService',\n",
              " 'OnlineSecurity',\n",
              " 'OnlineBackup',\n",
              " 'DeviceProtection',\n",
              " 'TechSupport',\n",
              " 'StreamingTV',\n",
              " 'StreamingMovies',\n",
              " 'Contract',\n",
              " 'PaperlessBilling',\n",
              " 'PaymentMethod',\n",
              " 'SeniorCitizen']"
            ]
          },
          "metadata": {},
          "execution_count": 29
        }
      ]
    },
    {
      "cell_type": "code",
      "source": [
        "def one_hot_encoder(dataframe, categorical_cols, drop_first=False):\n",
        "    dataframe = pd.get_dummies(dataframe, columns=categorical_cols, drop_first=drop_first)\n",
        "    return dataframe\n",
        "dff = one_hot_encoder(dff, cat_cols, drop_first=True)"
      ],
      "metadata": {
        "id": "POWxXURpQaoe"
      },
      "execution_count": null,
      "outputs": []
    },
    {
      "cell_type": "code",
      "source": [
        "y = dff[\"Churn\"]\n",
        "X = dff.drop([\"Churn\",\"customerID\"], axis=1)"
      ],
      "metadata": {
        "id": "5hD__0SqQaq5"
      },
      "execution_count": null,
      "outputs": []
    },
    {
      "cell_type": "code",
      "source": [
        "models = [('LR', LogisticRegression(random_state=12345)),\n",
        "          ('KNN', KNeighborsClassifier()),\n",
        "          ('CART', DecisionTreeClassifier(random_state=12345)),\n",
        "          ('RF', RandomForestClassifier(random_state=12345)),\n",
        "          ('SVM', SVC(gamma='auto', random_state=12345)),\n",
        "          ('XGB', XGBClassifier(random_state=12345)),\n",
        "          (\"LightGBM\", LGBMClassifier(random_state=12345)),\n",
        "          (\"CatBoost\", CatBoostClassifier(verbose=False, random_state=12345))]"
      ],
      "metadata": {
        "id": "btnrD48bQatn"
      },
      "execution_count": null,
      "outputs": []
    },
    {
      "cell_type": "code",
      "source": [
        "for name, model in models:\n",
        "    cv_results = cross_validate(model, X, y, cv=10, scoring=[\"accuracy\", \"f1\", \"roc_auc\", \"precision\", \"recall\"])\n",
        "    print(f\"########## {name} ##########\")\n",
        "    print(f\"Accuracy: {round(cv_results['test_accuracy'].mean(), 4)}\")\n",
        "    print(f\"Auc: {round(cv_results['test_roc_auc'].mean(), 4)}\")\n",
        "    print(f\"Recall: {round(cv_results['test_recall'].mean(), 4)}\")\n",
        "    print(f\"Precision: {round(cv_results['test_precision'].mean(), 4)}\")\n",
        "    print(f\"F1: {round(cv_results['test_f1'].mean(), 4)}\")"
      ],
      "metadata": {
        "colab": {
          "base_uri": "https://localhost:8080/"
        },
        "id": "DcjPcg97Qav-",
        "outputId": "62881a5d-f718-4ca5-f783-33f726096edb"
      },
      "execution_count": null,
      "outputs": [
        {
          "output_type": "stream",
          "name": "stdout",
          "text": [
            "########## LR ##########\n",
            "Accuracy: 0.8049\n",
            "Auc: 0.8429\n",
            "Recall: 0.5453\n",
            "Precision: 0.6608\n",
            "F1: 0.597\n",
            "########## KNN ##########\n",
            "Accuracy: 0.7635\n",
            "Auc: 0.7473\n",
            "Recall: 0.4468\n",
            "Precision: 0.5702\n",
            "F1: 0.5005\n",
            "########## CART ##########\n",
            "Accuracy: 0.7277\n",
            "Auc: 0.6579\n",
            "Recall: 0.504\n",
            "Precision: 0.4876\n",
            "F1: 0.4954\n",
            "########## RF ##########\n",
            "Accuracy: 0.792\n",
            "Auc: 0.8254\n",
            "Recall: 0.4837\n",
            "Precision: 0.6451\n",
            "F1: 0.5526\n",
            "########## SVM ##########\n",
            "Accuracy: 0.7696\n",
            "Auc: 0.7141\n",
            "Recall: 0.2905\n",
            "Precision: 0.6495\n",
            "F1: 0.4009\n",
            "########## XGB ##########\n",
            "Accuracy: 0.8053\n",
            "Auc: 0.8466\n",
            "Recall: 0.5196\n",
            "Precision: 0.6734\n",
            "F1: 0.586\n",
            "########## LightGBM ##########\n",
            "Accuracy: 0.7978\n",
            "Auc: 0.836\n",
            "Recall: 0.5308\n",
            "Precision: 0.6464\n",
            "F1: 0.5823\n",
            "########## CatBoost ##########\n",
            "Accuracy: 0.8001\n",
            "Auc: 0.8413\n",
            "Recall: 0.5131\n",
            "Precision: 0.6595\n",
            "F1: 0.5767\n"
          ]
        }
      ]
    },
    {
      "cell_type": "markdown",
      "source": [
        "# Outlier"
      ],
      "metadata": {
        "id": "kkxGpfm2RSc8"
      }
    },
    {
      "cell_type": "code",
      "source": [
        "def outlier_thresholds(dataframe, col_name, q1=0.05, q3=0.95):\n",
        "    quartile1 = dataframe[col_name].quantile(q1)\n",
        "    quartile3 = dataframe[col_name].quantile(q3)\n",
        "    interquantile_range = quartile3 - quartile1\n",
        "    up_limit = quartile3 + 1.5 * interquantile_range\n",
        "    low_limit = quartile1 - 1.5 * interquantile_range\n",
        "    return low_limit, up_limit"
      ],
      "metadata": {
        "id": "Ax0jy3VCQaym"
      },
      "execution_count": null,
      "outputs": []
    },
    {
      "cell_type": "code",
      "source": [
        "def check_outlier(dataframe, col_name):\n",
        "    low_limit, up_limit = outlier_thresholds(dataframe, col_name)\n",
        "    if dataframe[(dataframe[col_name] > up_limit) | (dataframe[col_name] < low_limit)].any(axis=None):\n",
        "        return True\n",
        "    else:\n",
        "        return False"
      ],
      "metadata": {
        "id": "mvBsoYabRf-B"
      },
      "execution_count": null,
      "outputs": []
    },
    {
      "cell_type": "code",
      "source": [
        "def replace_with_thresholds(dataframe, variable, q1=0.05, q3=0.95):\n",
        "    low_limit, up_limit = outlier_thresholds(dataframe, variable, q1=0.05, q3=0.95)\n",
        "    dataframe.loc[(dataframe[variable] < low_limit), variable] = low_limit\n",
        "    dataframe.loc[(dataframe[variable] > up_limit), variable] = up_limit"
      ],
      "metadata": {
        "id": "jObLHYCcRgA7"
      },
      "execution_count": null,
      "outputs": []
    },
    {
      "cell_type": "code",
      "source": [
        "for col in num_cols:\n",
        "    print(col, check_outlier(df, col))\n",
        "    if check_outlier(df, col):\n",
        "        replace_with_thresholds(df, col)"
      ],
      "metadata": {
        "colab": {
          "base_uri": "https://localhost:8080/"
        },
        "id": "yuWtXLpyRgDT",
        "outputId": "ea43be96-9b52-4473-d9af-3606506ffdab"
      },
      "execution_count": null,
      "outputs": [
        {
          "output_type": "stream",
          "name": "stdout",
          "text": [
            "tenure False\n",
            "MonthlyCharges False\n",
            "TotalCharges False\n"
          ]
        }
      ]
    },
    {
      "cell_type": "markdown",
      "source": [
        "# Feature Engineering"
      ],
      "metadata": {
        "id": "ZZW-7GZgR0HJ"
      }
    },
    {
      "cell_type": "code",
      "source": [
        "df.loc[(df[\"tenure\"]>=0) & (df[\"tenure\"]<=12),\"NEW_TENURE_YEAR\"] = \"0-1 Year\"\n",
        "df.loc[(df[\"tenure\"]>12) & (df[\"tenure\"]<=24),\"NEW_TENURE_YEAR\"] = \"1-2 Year\"\n",
        "df.loc[(df[\"tenure\"]>24) & (df[\"tenure\"]<=36),\"NEW_TENURE_YEAR\"] = \"2-3 Year\"\n",
        "df.loc[(df[\"tenure\"]>36) & (df[\"tenure\"]<=48),\"NEW_TENURE_YEAR\"] = \"3-4 Year\"\n",
        "df.loc[(df[\"tenure\"]>48) & (df[\"tenure\"]<=60),\"NEW_TENURE_YEAR\"] = \"4-5 Year\"\n",
        "df.loc[(df[\"tenure\"]>60) & (df[\"tenure\"]<=72),\"NEW_TENURE_YEAR\"] = \"5-6 Year\""
      ],
      "metadata": {
        "id": "YMB77lm_RgFr"
      },
      "execution_count": null,
      "outputs": []
    },
    {
      "cell_type": "code",
      "source": [
        "df[\"NEW_Engaged\"] = df[\"Contract\"].apply(lambda x: 1 if x in [\"One year\",\"Two year\"] else 0)"
      ],
      "metadata": {
        "id": "9Z_ytdX9RgIQ"
      },
      "execution_count": null,
      "outputs": []
    },
    {
      "cell_type": "code",
      "source": [
        "df[\"NEW_noProt\"] = df.apply(lambda x: 1 if (x[\"OnlineBackup\"] != \"Yes\") or (x[\"DeviceProtection\"] != \"Yes\") or (x[\"TechSupport\"] != \"Yes\") else 0, axis=1)"
      ],
      "metadata": {
        "id": "v5Yr_4CqR6Ug"
      },
      "execution_count": null,
      "outputs": []
    },
    {
      "cell_type": "code",
      "source": [
        "df[\"NEW_Young_Not_Engaged\"] = df.apply(lambda x: 1 if (x[\"NEW_Engaged\"] == 0) and (x[\"SeniorCitizen\"] == 0) else 0, axis=1)"
      ],
      "metadata": {
        "id": "Y1uVLS9kR6XM"
      },
      "execution_count": null,
      "outputs": []
    },
    {
      "cell_type": "code",
      "source": [
        "df['NEW_TotalServices'] = (df[['PhoneService', 'InternetService', 'OnlineSecurity',\n",
        "                                       'OnlineBackup', 'DeviceProtection', 'TechSupport',\n",
        "                                       'StreamingTV', 'StreamingMovies']]== 'Yes').sum(axis=1)"
      ],
      "metadata": {
        "id": "VcdSu-ZqR6aG"
      },
      "execution_count": null,
      "outputs": []
    },
    {
      "cell_type": "code",
      "source": [
        "df[\"NEW_FLAG_ANY_STREAMING\"] = df.apply(lambda x: 1 if (x[\"StreamingTV\"] == \"Yes\") or (x[\"StreamingMovies\"] == \"Yes\") else 0, axis=1)"
      ],
      "metadata": {
        "id": "9tSYjqnSR6c6"
      },
      "execution_count": null,
      "outputs": []
    },
    {
      "cell_type": "code",
      "source": [
        "df[\"NEW_FLAG_AutoPayment\"] = df[\"PaymentMethod\"].apply(lambda x: 1 if x in [\"Bank transfer (automatic)\",\"Credit card (automatic)\"] else 0)"
      ],
      "metadata": {
        "id": "s2kfw_2kR6ip"
      },
      "execution_count": null,
      "outputs": []
    },
    {
      "cell_type": "code",
      "source": [
        "df[\"NEW_AVG_Charges\"] = df[\"TotalCharges\"] / (df[\"tenure\"] + 1)"
      ],
      "metadata": {
        "id": "XBtZUM5QQa09"
      },
      "execution_count": null,
      "outputs": []
    },
    {
      "cell_type": "code",
      "source": [
        "df[\"NEW_Increase\"] = df[\"NEW_AVG_Charges\"] / df[\"MonthlyCharges\"]"
      ],
      "metadata": {
        "id": "rcoEiAn6SJ8s"
      },
      "execution_count": null,
      "outputs": []
    },
    {
      "cell_type": "code",
      "source": [
        "df[\"NEW_AVG_Service_Fee\"] = df[\"MonthlyCharges\"] / (df['NEW_TotalServices'] + 1)"
      ],
      "metadata": {
        "id": "x0mWT3P6SJ_f"
      },
      "execution_count": null,
      "outputs": []
    },
    {
      "cell_type": "code",
      "source": [
        "df.head()\n",
        "df.shape"
      ],
      "metadata": {
        "colab": {
          "base_uri": "https://localhost:8080/"
        },
        "id": "fiOXzIzqSKDI",
        "outputId": "d5d86463-418b-4105-d701-17d45bd7dcf9"
      },
      "execution_count": null,
      "outputs": [
        {
          "output_type": "execute_result",
          "data": {
            "text/plain": [
              "(7043, 31)"
            ]
          },
          "metadata": {},
          "execution_count": 48
        }
      ]
    },
    {
      "cell_type": "markdown",
      "source": [
        "# ENCODING"
      ],
      "metadata": {
        "id": "WWsOc_oOSWw-"
      }
    },
    {
      "cell_type": "code",
      "source": [
        "cat_cols, num_cols, cat_but_car = grab_col_names(df)"
      ],
      "metadata": {
        "colab": {
          "base_uri": "https://localhost:8080/"
        },
        "id": "valb56IBQa3s",
        "outputId": "9bb680af-53f7-4e12-8486-e2a531569d0a"
      },
      "execution_count": null,
      "outputs": [
        {
          "output_type": "stream",
          "name": "stdout",
          "text": [
            "Observations: 7043\n",
            "Variables: 31\n",
            "cat_cols: 24\n",
            "num_cols: 6\n",
            "cat_but_car: 1\n",
            "num_but_cat: 8\n"
          ]
        }
      ]
    },
    {
      "cell_type": "code",
      "source": [
        "def label_encoder(dataframe, binary_col):\n",
        "    labelencoder = LabelEncoder()\n",
        "    dataframe[binary_col] = labelencoder.fit_transform(dataframe[binary_col])\n",
        "    return dataframe\n",
        "\n",
        "binary_cols = [col for col in df.columns if df[col].dtypes == \"O\" and df[col].nunique() == 2]\n",
        "binary_cols\n",
        "\n",
        "for col in binary_cols:\n",
        "    df = label_encoder(df, col)\n",
        "\n",
        "# One-Hot Encoding İşlemi\n",
        "# cat_cols listesinin güncelleme işlemi\n",
        "cat_cols = [col for col in cat_cols if col not in binary_cols and col not in [\"Churn\", \"NEW_TotalServices\"]]\n",
        "cat_cols"
      ],
      "metadata": {
        "colab": {
          "base_uri": "https://localhost:8080/"
        },
        "id": "PpIySOhpSYtB",
        "outputId": "18445b7e-bde4-4b75-e3b0-5aaf04e02065"
      },
      "execution_count": null,
      "outputs": [
        {
          "output_type": "execute_result",
          "data": {
            "text/plain": [
              "['MultipleLines',\n",
              " 'InternetService',\n",
              " 'OnlineSecurity',\n",
              " 'OnlineBackup',\n",
              " 'DeviceProtection',\n",
              " 'TechSupport',\n",
              " 'StreamingTV',\n",
              " 'StreamingMovies',\n",
              " 'Contract',\n",
              " 'PaymentMethod',\n",
              " 'NEW_TENURE_YEAR',\n",
              " 'SeniorCitizen',\n",
              " 'NEW_Engaged',\n",
              " 'NEW_noProt',\n",
              " 'NEW_Young_Not_Engaged',\n",
              " 'NEW_FLAG_ANY_STREAMING',\n",
              " 'NEW_FLAG_AutoPayment']"
            ]
          },
          "metadata": {},
          "execution_count": 52
        }
      ]
    },
    {
      "cell_type": "code",
      "source": [
        "def one_hot_encoder(dataframe, categorical_cols, drop_first=False):\n",
        "    dataframe = pd.get_dummies(dataframe, columns=categorical_cols, drop_first=drop_first)\n",
        "    return dataframe"
      ],
      "metadata": {
        "id": "NxHlgbz0SYyt"
      },
      "execution_count": null,
      "outputs": []
    },
    {
      "cell_type": "code",
      "source": [
        "df = one_hot_encoder(df, cat_cols, drop_first=True)\n",
        "\n",
        "df.head()"
      ],
      "metadata": {
        "colab": {
          "base_uri": "https://localhost:8080/",
          "height": 392
        },
        "id": "BjAwGaUaSZQ-",
        "outputId": "37697f4a-46c6-474b-b9aa-8d25d6c73f19"
      },
      "execution_count": null,
      "outputs": [
        {
          "output_type": "execute_result",
          "data": {
            "text/plain": [
              "   customerID  gender  Partner  Dependents  tenure  PhoneService  PaperlessBilling  MonthlyCharges  TotalCharges  Churn  NEW_TotalServices  NEW_AVG_Charges  \\\n",
              "0  7590-VHVEG       0        1           0       1             0                 1          29.850        29.850      0                  1           14.925   \n",
              "1  5575-GNVDE       1        0           0      34             1                 0          56.950      1889.500      0                  3           53.986   \n",
              "2  3668-QPYBK       1        0           0       2             1                 1          53.850       108.150      1                  3           36.050   \n",
              "3  7795-CFOCW       1        0           0      45             0                 0          42.300      1840.750      0                  3           40.016   \n",
              "4  9237-HQITU       0        0           0       2             1                 1          70.700       151.650      1                  1           50.550   \n",
              "\n",
              "   NEW_Increase  NEW_AVG_Service_Fee  MultipleLines_No phone service  MultipleLines_Yes  InternetService_Fiber optic  InternetService_No  \\\n",
              "0         0.500               14.925                               1                  0                            0                   0   \n",
              "1         0.948               14.238                               0                  0                            0                   0   \n",
              "2         0.669               13.463                               0                  0                            0                   0   \n",
              "3         0.946               10.575                               1                  0                            0                   0   \n",
              "4         0.715               35.350                               0                  0                            1                   0   \n",
              "\n",
              "   OnlineSecurity_No internet service  OnlineSecurity_Yes  OnlineBackup_No internet service  OnlineBackup_Yes  DeviceProtection_No internet service  \\\n",
              "0                                   0                   0                                 0                 1                                     0   \n",
              "1                                   0                   1                                 0                 0                                     0   \n",
              "2                                   0                   1                                 0                 1                                     0   \n",
              "3                                   0                   1                                 0                 0                                     0   \n",
              "4                                   0                   0                                 0                 0                                     0   \n",
              "\n",
              "   DeviceProtection_Yes  TechSupport_No internet service  TechSupport_Yes  StreamingTV_No internet service  StreamingTV_Yes  StreamingMovies_No internet service  \\\n",
              "0                     0                                0                0                                0                0                                    0   \n",
              "1                     1                                0                0                                0                0                                    0   \n",
              "2                     0                                0                0                                0                0                                    0   \n",
              "3                     1                                0                1                                0                0                                    0   \n",
              "4                     0                                0                0                                0                0                                    0   \n",
              "\n",
              "   StreamingMovies_Yes  Contract_One year  Contract_Two year  PaymentMethod_Credit card (automatic)  PaymentMethod_Electronic check  PaymentMethod_Mailed check  \\\n",
              "0                    0                  0                  0                                      0                               1                           0   \n",
              "1                    0                  1                  0                                      0                               0                           1   \n",
              "2                    0                  0                  0                                      0                               0                           1   \n",
              "3                    0                  1                  0                                      0                               0                           0   \n",
              "4                    0                  0                  0                                      0                               1                           0   \n",
              "\n",
              "   NEW_TENURE_YEAR_1-2 Year  NEW_TENURE_YEAR_2-3 Year  NEW_TENURE_YEAR_3-4 Year  NEW_TENURE_YEAR_4-5 Year  NEW_TENURE_YEAR_5-6 Year  SeniorCitizen_1  NEW_Engaged_1  \\\n",
              "0                         0                         0                         0                         0                         0                0              0   \n",
              "1                         0                         1                         0                         0                         0                0              1   \n",
              "2                         0                         0                         0                         0                         0                0              0   \n",
              "3                         0                         0                         1                         0                         0                0              1   \n",
              "4                         0                         0                         0                         0                         0                0              0   \n",
              "\n",
              "   NEW_noProt_1  NEW_Young_Not_Engaged_1  NEW_FLAG_ANY_STREAMING_1  NEW_FLAG_AutoPayment_1  \n",
              "0             1                        1                         0                       0  \n",
              "1             1                        0                         0                       0  \n",
              "2             1                        1                         0                       0  \n",
              "3             1                        0                         0                       1  \n",
              "4             1                        1                         0                       0  "
            ],
            "text/html": [
              "\n",
              "  <div id=\"df-e789a6b6-bc49-4bf5-9017-80d2dcaf11a6\">\n",
              "    <div class=\"colab-df-container\">\n",
              "      <div>\n",
              "<style scoped>\n",
              "    .dataframe tbody tr th:only-of-type {\n",
              "        vertical-align: middle;\n",
              "    }\n",
              "\n",
              "    .dataframe tbody tr th {\n",
              "        vertical-align: top;\n",
              "    }\n",
              "\n",
              "    .dataframe thead th {\n",
              "        text-align: right;\n",
              "    }\n",
              "</style>\n",
              "<table border=\"1\" class=\"dataframe\">\n",
              "  <thead>\n",
              "    <tr style=\"text-align: right;\">\n",
              "      <th></th>\n",
              "      <th>customerID</th>\n",
              "      <th>gender</th>\n",
              "      <th>Partner</th>\n",
              "      <th>Dependents</th>\n",
              "      <th>tenure</th>\n",
              "      <th>PhoneService</th>\n",
              "      <th>PaperlessBilling</th>\n",
              "      <th>MonthlyCharges</th>\n",
              "      <th>TotalCharges</th>\n",
              "      <th>Churn</th>\n",
              "      <th>NEW_TotalServices</th>\n",
              "      <th>NEW_AVG_Charges</th>\n",
              "      <th>NEW_Increase</th>\n",
              "      <th>NEW_AVG_Service_Fee</th>\n",
              "      <th>MultipleLines_No phone service</th>\n",
              "      <th>MultipleLines_Yes</th>\n",
              "      <th>InternetService_Fiber optic</th>\n",
              "      <th>InternetService_No</th>\n",
              "      <th>OnlineSecurity_No internet service</th>\n",
              "      <th>OnlineSecurity_Yes</th>\n",
              "      <th>OnlineBackup_No internet service</th>\n",
              "      <th>OnlineBackup_Yes</th>\n",
              "      <th>DeviceProtection_No internet service</th>\n",
              "      <th>DeviceProtection_Yes</th>\n",
              "      <th>TechSupport_No internet service</th>\n",
              "      <th>TechSupport_Yes</th>\n",
              "      <th>StreamingTV_No internet service</th>\n",
              "      <th>StreamingTV_Yes</th>\n",
              "      <th>StreamingMovies_No internet service</th>\n",
              "      <th>StreamingMovies_Yes</th>\n",
              "      <th>Contract_One year</th>\n",
              "      <th>Contract_Two year</th>\n",
              "      <th>PaymentMethod_Credit card (automatic)</th>\n",
              "      <th>PaymentMethod_Electronic check</th>\n",
              "      <th>PaymentMethod_Mailed check</th>\n",
              "      <th>NEW_TENURE_YEAR_1-2 Year</th>\n",
              "      <th>NEW_TENURE_YEAR_2-3 Year</th>\n",
              "      <th>NEW_TENURE_YEAR_3-4 Year</th>\n",
              "      <th>NEW_TENURE_YEAR_4-5 Year</th>\n",
              "      <th>NEW_TENURE_YEAR_5-6 Year</th>\n",
              "      <th>SeniorCitizen_1</th>\n",
              "      <th>NEW_Engaged_1</th>\n",
              "      <th>NEW_noProt_1</th>\n",
              "      <th>NEW_Young_Not_Engaged_1</th>\n",
              "      <th>NEW_FLAG_ANY_STREAMING_1</th>\n",
              "      <th>NEW_FLAG_AutoPayment_1</th>\n",
              "    </tr>\n",
              "  </thead>\n",
              "  <tbody>\n",
              "    <tr>\n",
              "      <th>0</th>\n",
              "      <td>7590-VHVEG</td>\n",
              "      <td>0</td>\n",
              "      <td>1</td>\n",
              "      <td>0</td>\n",
              "      <td>1</td>\n",
              "      <td>0</td>\n",
              "      <td>1</td>\n",
              "      <td>29.850</td>\n",
              "      <td>29.850</td>\n",
              "      <td>0</td>\n",
              "      <td>1</td>\n",
              "      <td>14.925</td>\n",
              "      <td>0.500</td>\n",
              "      <td>14.925</td>\n",
              "      <td>1</td>\n",
              "      <td>0</td>\n",
              "      <td>0</td>\n",
              "      <td>0</td>\n",
              "      <td>0</td>\n",
              "      <td>0</td>\n",
              "      <td>0</td>\n",
              "      <td>1</td>\n",
              "      <td>0</td>\n",
              "      <td>0</td>\n",
              "      <td>0</td>\n",
              "      <td>0</td>\n",
              "      <td>0</td>\n",
              "      <td>0</td>\n",
              "      <td>0</td>\n",
              "      <td>0</td>\n",
              "      <td>0</td>\n",
              "      <td>0</td>\n",
              "      <td>0</td>\n",
              "      <td>1</td>\n",
              "      <td>0</td>\n",
              "      <td>0</td>\n",
              "      <td>0</td>\n",
              "      <td>0</td>\n",
              "      <td>0</td>\n",
              "      <td>0</td>\n",
              "      <td>0</td>\n",
              "      <td>0</td>\n",
              "      <td>1</td>\n",
              "      <td>1</td>\n",
              "      <td>0</td>\n",
              "      <td>0</td>\n",
              "    </tr>\n",
              "    <tr>\n",
              "      <th>1</th>\n",
              "      <td>5575-GNVDE</td>\n",
              "      <td>1</td>\n",
              "      <td>0</td>\n",
              "      <td>0</td>\n",
              "      <td>34</td>\n",
              "      <td>1</td>\n",
              "      <td>0</td>\n",
              "      <td>56.950</td>\n",
              "      <td>1889.500</td>\n",
              "      <td>0</td>\n",
              "      <td>3</td>\n",
              "      <td>53.986</td>\n",
              "      <td>0.948</td>\n",
              "      <td>14.238</td>\n",
              "      <td>0</td>\n",
              "      <td>0</td>\n",
              "      <td>0</td>\n",
              "      <td>0</td>\n",
              "      <td>0</td>\n",
              "      <td>1</td>\n",
              "      <td>0</td>\n",
              "      <td>0</td>\n",
              "      <td>0</td>\n",
              "      <td>1</td>\n",
              "      <td>0</td>\n",
              "      <td>0</td>\n",
              "      <td>0</td>\n",
              "      <td>0</td>\n",
              "      <td>0</td>\n",
              "      <td>0</td>\n",
              "      <td>1</td>\n",
              "      <td>0</td>\n",
              "      <td>0</td>\n",
              "      <td>0</td>\n",
              "      <td>1</td>\n",
              "      <td>0</td>\n",
              "      <td>1</td>\n",
              "      <td>0</td>\n",
              "      <td>0</td>\n",
              "      <td>0</td>\n",
              "      <td>0</td>\n",
              "      <td>1</td>\n",
              "      <td>1</td>\n",
              "      <td>0</td>\n",
              "      <td>0</td>\n",
              "      <td>0</td>\n",
              "    </tr>\n",
              "    <tr>\n",
              "      <th>2</th>\n",
              "      <td>3668-QPYBK</td>\n",
              "      <td>1</td>\n",
              "      <td>0</td>\n",
              "      <td>0</td>\n",
              "      <td>2</td>\n",
              "      <td>1</td>\n",
              "      <td>1</td>\n",
              "      <td>53.850</td>\n",
              "      <td>108.150</td>\n",
              "      <td>1</td>\n",
              "      <td>3</td>\n",
              "      <td>36.050</td>\n",
              "      <td>0.669</td>\n",
              "      <td>13.463</td>\n",
              "      <td>0</td>\n",
              "      <td>0</td>\n",
              "      <td>0</td>\n",
              "      <td>0</td>\n",
              "      <td>0</td>\n",
              "      <td>1</td>\n",
              "      <td>0</td>\n",
              "      <td>1</td>\n",
              "      <td>0</td>\n",
              "      <td>0</td>\n",
              "      <td>0</td>\n",
              "      <td>0</td>\n",
              "      <td>0</td>\n",
              "      <td>0</td>\n",
              "      <td>0</td>\n",
              "      <td>0</td>\n",
              "      <td>0</td>\n",
              "      <td>0</td>\n",
              "      <td>0</td>\n",
              "      <td>0</td>\n",
              "      <td>1</td>\n",
              "      <td>0</td>\n",
              "      <td>0</td>\n",
              "      <td>0</td>\n",
              "      <td>0</td>\n",
              "      <td>0</td>\n",
              "      <td>0</td>\n",
              "      <td>0</td>\n",
              "      <td>1</td>\n",
              "      <td>1</td>\n",
              "      <td>0</td>\n",
              "      <td>0</td>\n",
              "    </tr>\n",
              "    <tr>\n",
              "      <th>3</th>\n",
              "      <td>7795-CFOCW</td>\n",
              "      <td>1</td>\n",
              "      <td>0</td>\n",
              "      <td>0</td>\n",
              "      <td>45</td>\n",
              "      <td>0</td>\n",
              "      <td>0</td>\n",
              "      <td>42.300</td>\n",
              "      <td>1840.750</td>\n",
              "      <td>0</td>\n",
              "      <td>3</td>\n",
              "      <td>40.016</td>\n",
              "      <td>0.946</td>\n",
              "      <td>10.575</td>\n",
              "      <td>1</td>\n",
              "      <td>0</td>\n",
              "      <td>0</td>\n",
              "      <td>0</td>\n",
              "      <td>0</td>\n",
              "      <td>1</td>\n",
              "      <td>0</td>\n",
              "      <td>0</td>\n",
              "      <td>0</td>\n",
              "      <td>1</td>\n",
              "      <td>0</td>\n",
              "      <td>1</td>\n",
              "      <td>0</td>\n",
              "      <td>0</td>\n",
              "      <td>0</td>\n",
              "      <td>0</td>\n",
              "      <td>1</td>\n",
              "      <td>0</td>\n",
              "      <td>0</td>\n",
              "      <td>0</td>\n",
              "      <td>0</td>\n",
              "      <td>0</td>\n",
              "      <td>0</td>\n",
              "      <td>1</td>\n",
              "      <td>0</td>\n",
              "      <td>0</td>\n",
              "      <td>0</td>\n",
              "      <td>1</td>\n",
              "      <td>1</td>\n",
              "      <td>0</td>\n",
              "      <td>0</td>\n",
              "      <td>1</td>\n",
              "    </tr>\n",
              "    <tr>\n",
              "      <th>4</th>\n",
              "      <td>9237-HQITU</td>\n",
              "      <td>0</td>\n",
              "      <td>0</td>\n",
              "      <td>0</td>\n",
              "      <td>2</td>\n",
              "      <td>1</td>\n",
              "      <td>1</td>\n",
              "      <td>70.700</td>\n",
              "      <td>151.650</td>\n",
              "      <td>1</td>\n",
              "      <td>1</td>\n",
              "      <td>50.550</td>\n",
              "      <td>0.715</td>\n",
              "      <td>35.350</td>\n",
              "      <td>0</td>\n",
              "      <td>0</td>\n",
              "      <td>1</td>\n",
              "      <td>0</td>\n",
              "      <td>0</td>\n",
              "      <td>0</td>\n",
              "      <td>0</td>\n",
              "      <td>0</td>\n",
              "      <td>0</td>\n",
              "      <td>0</td>\n",
              "      <td>0</td>\n",
              "      <td>0</td>\n",
              "      <td>0</td>\n",
              "      <td>0</td>\n",
              "      <td>0</td>\n",
              "      <td>0</td>\n",
              "      <td>0</td>\n",
              "      <td>0</td>\n",
              "      <td>0</td>\n",
              "      <td>1</td>\n",
              "      <td>0</td>\n",
              "      <td>0</td>\n",
              "      <td>0</td>\n",
              "      <td>0</td>\n",
              "      <td>0</td>\n",
              "      <td>0</td>\n",
              "      <td>0</td>\n",
              "      <td>0</td>\n",
              "      <td>1</td>\n",
              "      <td>1</td>\n",
              "      <td>0</td>\n",
              "      <td>0</td>\n",
              "    </tr>\n",
              "  </tbody>\n",
              "</table>\n",
              "</div>\n",
              "      <button class=\"colab-df-convert\" onclick=\"convertToInteractive('df-e789a6b6-bc49-4bf5-9017-80d2dcaf11a6')\"\n",
              "              title=\"Convert this dataframe to an interactive table.\"\n",
              "              style=\"display:none;\">\n",
              "        \n",
              "  <svg xmlns=\"http://www.w3.org/2000/svg\" height=\"24px\"viewBox=\"0 0 24 24\"\n",
              "       width=\"24px\">\n",
              "    <path d=\"M0 0h24v24H0V0z\" fill=\"none\"/>\n",
              "    <path d=\"M18.56 5.44l.94 2.06.94-2.06 2.06-.94-2.06-.94-.94-2.06-.94 2.06-2.06.94zm-11 1L8.5 8.5l.94-2.06 2.06-.94-2.06-.94L8.5 2.5l-.94 2.06-2.06.94zm10 10l.94 2.06.94-2.06 2.06-.94-2.06-.94-.94-2.06-.94 2.06-2.06.94z\"/><path d=\"M17.41 7.96l-1.37-1.37c-.4-.4-.92-.59-1.43-.59-.52 0-1.04.2-1.43.59L10.3 9.45l-7.72 7.72c-.78.78-.78 2.05 0 2.83L4 21.41c.39.39.9.59 1.41.59.51 0 1.02-.2 1.41-.59l7.78-7.78 2.81-2.81c.8-.78.8-2.07 0-2.86zM5.41 20L4 18.59l7.72-7.72 1.47 1.35L5.41 20z\"/>\n",
              "  </svg>\n",
              "      </button>\n",
              "      \n",
              "  <style>\n",
              "    .colab-df-container {\n",
              "      display:flex;\n",
              "      flex-wrap:wrap;\n",
              "      gap: 12px;\n",
              "    }\n",
              "\n",
              "    .colab-df-convert {\n",
              "      background-color: #E8F0FE;\n",
              "      border: none;\n",
              "      border-radius: 50%;\n",
              "      cursor: pointer;\n",
              "      display: none;\n",
              "      fill: #1967D2;\n",
              "      height: 32px;\n",
              "      padding: 0 0 0 0;\n",
              "      width: 32px;\n",
              "    }\n",
              "\n",
              "    .colab-df-convert:hover {\n",
              "      background-color: #E2EBFA;\n",
              "      box-shadow: 0px 1px 2px rgba(60, 64, 67, 0.3), 0px 1px 3px 1px rgba(60, 64, 67, 0.15);\n",
              "      fill: #174EA6;\n",
              "    }\n",
              "\n",
              "    [theme=dark] .colab-df-convert {\n",
              "      background-color: #3B4455;\n",
              "      fill: #D2E3FC;\n",
              "    }\n",
              "\n",
              "    [theme=dark] .colab-df-convert:hover {\n",
              "      background-color: #434B5C;\n",
              "      box-shadow: 0px 1px 3px 1px rgba(0, 0, 0, 0.15);\n",
              "      filter: drop-shadow(0px 1px 2px rgba(0, 0, 0, 0.3));\n",
              "      fill: #FFFFFF;\n",
              "    }\n",
              "  </style>\n",
              "\n",
              "      <script>\n",
              "        const buttonEl =\n",
              "          document.querySelector('#df-e789a6b6-bc49-4bf5-9017-80d2dcaf11a6 button.colab-df-convert');\n",
              "        buttonEl.style.display =\n",
              "          google.colab.kernel.accessAllowed ? 'block' : 'none';\n",
              "\n",
              "        async function convertToInteractive(key) {\n",
              "          const element = document.querySelector('#df-e789a6b6-bc49-4bf5-9017-80d2dcaf11a6');\n",
              "          const dataTable =\n",
              "            await google.colab.kernel.invokeFunction('convertToInteractive',\n",
              "                                                     [key], {});\n",
              "          if (!dataTable) return;\n",
              "\n",
              "          const docLinkHtml = 'Like what you see? Visit the ' +\n",
              "            '<a target=\"_blank\" href=https://colab.research.google.com/notebooks/data_table.ipynb>data table notebook</a>'\n",
              "            + ' to learn more about interactive tables.';\n",
              "          element.innerHTML = '';\n",
              "          dataTable['output_type'] = 'display_data';\n",
              "          await google.colab.output.renderOutput(dataTable, element);\n",
              "          const docLink = document.createElement('div');\n",
              "          docLink.innerHTML = docLinkHtml;\n",
              "          element.appendChild(docLink);\n",
              "        }\n",
              "      </script>\n",
              "    </div>\n",
              "  </div>\n",
              "  "
            ]
          },
          "metadata": {},
          "execution_count": 54
        }
      ]
    },
    {
      "cell_type": "markdown",
      "source": [
        "# MODELLING"
      ],
      "metadata": {
        "id": "KYeTleGhSwXa"
      }
    },
    {
      "cell_type": "code",
      "source": [
        "y = df[\"Churn\"]\n",
        "X = df.drop([\"Churn\",\"customerID\"], axis=1)\n",
        "\n",
        "\n",
        "models = [('LR', LogisticRegression(random_state=12345)),\n",
        "          ('KNN', KNeighborsClassifier()),\n",
        "          ('CART', DecisionTreeClassifier(random_state=12345)),\n",
        "          ('RF', RandomForestClassifier(random_state=12345)),\n",
        "          ('SVM', SVC(gamma='auto', random_state=12345)),\n",
        "          ('XGB', XGBClassifier(random_state=12345)),\n",
        "          (\"LightGBM\", LGBMClassifier(random_state=12345)),\n",
        "          (\"CatBoost\", CatBoostClassifier(verbose=False, random_state=12345))]\n",
        "\n",
        "for name, model in models:\n",
        "    cv_results = cross_validate(model, X, y, cv=10, scoring=[\"accuracy\", \"f1\", \"roc_auc\", \"precision\", \"recall\"])\n",
        "    print(f\"########## {name} ##########\")\n",
        "    print(f\"Accuracy: {round(cv_results['test_accuracy'].mean(), 4)}\")\n",
        "    print(f\"Auc: {round(cv_results['test_roc_auc'].mean(), 4)}\")\n",
        "    print(f\"Recall: {round(cv_results['test_recall'].mean(), 4)}\")\n",
        "    print(f\"Precision: {round(cv_results['test_precision'].mean(), 4)}\")\n",
        "    print(f\"F1: {round(cv_results['test_f1'].mean(), 4)}\")"
      ],
      "metadata": {
        "colab": {
          "base_uri": "https://localhost:8080/"
        },
        "id": "I5NYhyLESZ1z",
        "outputId": "da037907-b778-4554-9564-e628f40057a4"
      },
      "execution_count": null,
      "outputs": [
        {
          "output_type": "stream",
          "name": "stdout",
          "text": [
            "########## LR ##########\n",
            "Accuracy: 0.8036\n",
            "Auc: 0.8457\n",
            "Recall: 0.5094\n",
            "Precision: 0.6722\n",
            "F1: 0.579\n",
            "########## KNN ##########\n",
            "Accuracy: 0.7704\n",
            "Auc: 0.7544\n",
            "Recall: 0.4655\n",
            "Precision: 0.5861\n",
            "F1: 0.518\n",
            "########## CART ##########\n",
            "Accuracy: 0.728\n",
            "Auc: 0.6574\n",
            "Recall: 0.5035\n",
            "Precision: 0.4875\n",
            "F1: 0.4953\n",
            "########## RF ##########\n",
            "Accuracy: 0.7914\n",
            "Auc: 0.8269\n",
            "Recall: 0.4998\n",
            "Precision: 0.6374\n",
            "F1: 0.5598\n",
            "########## SVM ##########\n",
            "Accuracy: 0.7681\n",
            "Auc: 0.7255\n",
            "Recall: 0.2579\n",
            "Precision: 0.6657\n",
            "F1: 0.3708\n",
            "########## XGB ##########\n",
            "Accuracy: 0.8042\n",
            "Auc: 0.8459\n",
            "Recall: 0.5228\n",
            "Precision: 0.6682\n",
            "F1: 0.586\n",
            "########## LightGBM ##########\n",
            "Accuracy: 0.7968\n",
            "Auc: 0.8352\n",
            "Recall: 0.526\n",
            "Precision: 0.6441\n",
            "F1: 0.5788\n",
            "########## CatBoost ##########\n",
            "Accuracy: 0.7974\n",
            "Auc: 0.8415\n",
            "Recall: 0.5206\n",
            "Precision: 0.6477\n",
            "F1: 0.5771\n"
          ]
        }
      ]
    },
    {
      "cell_type": "code",
      "source": [
        "################################################\n",
        "# Random Forests\n",
        "################################################\n",
        "\n",
        "rf_model = RandomForestClassifier(random_state=17)\n",
        "\n",
        "rf_params = {\"max_depth\": [5, 8, None],\n",
        "             \"max_features\": [3, 5, 7, \"auto\"],\n",
        "             \"min_samples_split\": [2, 5, 8, 15, 20],\n",
        "             \"n_estimators\": [100, 200, 500]}\n",
        "\n",
        "rf_best_grid = GridSearchCV(rf_model, rf_params, cv=5, n_jobs=-1, verbose=True).fit(X, y)\n",
        "\n",
        "rf_best_grid.best_params_\n",
        "\n",
        "rf_best_grid.best_score_\n",
        "\n",
        "rf_final = rf_model.set_params(**rf_best_grid.best_params_, random_state=17).fit(X, y)\n",
        "\n",
        "\n",
        "cv_results = cross_validate(rf_final, X, y, cv=10, scoring=[\"accuracy\", \"f1\", \"roc_auc\"])\n",
        "cv_results['test_accuracy'].mean()\n",
        "cv_results['test_f1'].mean()\n",
        "cv_results['test_roc_auc'].mean()"
      ],
      "metadata": {
        "id": "SmLZeCImeVo0"
      },
      "execution_count": null,
      "outputs": []
    },
    {
      "cell_type": "code",
      "source": [
        "################################################\n",
        "# XGBoost\n",
        "################################################\n",
        "\n",
        "xgboost_model = XGBClassifier(random_state=17)\n",
        "\n",
        "xgboost_params = {\"learning_rate\": [0.1, 0.01, 0.001],\n",
        "                  \"max_depth\": [5, 8, 12, 15, 20],\n",
        "                  \"n_estimators\": [100, 500, 1000],\n",
        "                  \"colsample_bytree\": [0.5, 0.7, 1]}\n",
        "\n",
        "xgboost_best_grid = GridSearchCV(xgboost_model, xgboost_params, cv=5, n_jobs=-1, verbose=True).fit(X, y)\n",
        "\n",
        "xgboost_final = xgboost_model.set_params(**xgboost_best_grid.best_params_, random_state=17).fit(X, y)\n",
        "\n",
        "cv_results = cross_validate(xgboost_final, X, y, cv=10, scoring=[\"accuracy\", \"f1\", \"roc_auc\"])\n",
        "cv_results['test_accuracy'].mean()\n",
        "cv_results['test_f1'].mean()\n",
        "cv_results['test_roc_auc'].mean()"
      ],
      "metadata": {
        "id": "iOGzjS_nlLIa"
      },
      "execution_count": null,
      "outputs": []
    },
    {
      "cell_type": "code",
      "source": [
        "################################################\n",
        "# LightGBM\n",
        "################################################\n",
        "\n",
        "lgbm_model = LGBMClassifier(random_state=17)\n",
        "\n",
        "lgbm_params = {\"learning_rate\": [0.01, 0.1, 0.001],\n",
        "               \"n_estimators\": [100, 300, 500, 1000],\n",
        "               \"colsample_bytree\": [0.5, 0.7, 1]}\n",
        "\n",
        "lgbm_best_grid = GridSearchCV(lgbm_model, lgbm_params, cv=5, n_jobs=-1, verbose=True).fit(X, y)\n",
        "\n",
        "lgbm_final = lgbm_model.set_params(**lgbm_best_grid.best_params_, random_state=17).fit(X, y)\n",
        "\n",
        "cv_results = cross_validate(lgbm_final, X, y, cv=10, scoring=[\"accuracy\", \"f1\", \"roc_auc\"])\n",
        "cv_results['test_accuracy'].mean()\n",
        "cv_results['test_f1'].mean()\n",
        "cv_results['test_roc_auc'].mean()"
      ],
      "metadata": {
        "id": "IyUjwbunlLLP"
      },
      "execution_count": null,
      "outputs": []
    },
    {
      "cell_type": "code",
      "source": [
        "################################################\n",
        "# CatBoost\n",
        "################################################\n",
        "\n",
        "catboost_model = CatBoostClassifier(random_state=17, verbose=False)\n",
        "\n",
        "catboost_params = {\"iterations\": [200, 500],\n",
        "                   \"learning_rate\": [0.01, 0.1],\n",
        "                   \"depth\": [3, 6]}\n",
        "\n",
        "catboost_best_grid = GridSearchCV(catboost_model, catboost_params, cv=5, n_jobs=-1, verbose=True).fit(X, y)\n",
        "\n",
        "catboost_final = catboost_model.set_params(**catboost_best_grid.best_params_, random_state=17).fit(X, y)\n",
        "\n",
        "cv_results = cross_validate(catboost_final, X, y, cv=10, scoring=[\"accuracy\", \"f1\", \"roc_auc\"])\n",
        "\n",
        "cv_results['test_accuracy'].mean()\n",
        "cv_results['test_f1'].mean()\n",
        "cv_results['test_roc_auc'].mean()"
      ],
      "metadata": {
        "id": "55fzgBKDlLQe"
      },
      "execution_count": null,
      "outputs": []
    }
  ]
}